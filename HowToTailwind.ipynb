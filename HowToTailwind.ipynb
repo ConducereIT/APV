{
 "cells": [
  {
   "cell_type": "markdown",
   "metadata": {},
   "source": [
    "Tailwind CSS este un framework CSS util și popular, care se concentrează pe construirea interfețelor web folosind clase de utilitate. Iată o mini-documentație pentru a explica sintaxa codului de Tailwind:"
   ]
  },
  {
   "cell_type": "markdown",
   "metadata": {},
   "source": [
    "\n",
    "Tailwind CSS este bazat pe clase care descriu stilurile CSS. În loc să definim stilurile într-un fișier CSS separat, aplicăm clase direct în markup-ul HTML. De exemplu:"
   ]
  },
  {
   "cell_type": "code",
   "execution_count": null,
   "metadata": {
    "vscode": {
     "languageId": "html"
    }
   },
   "outputs": [],
   "source": [
    "<button class=\"bg-blue-500 hover:bg-blue-700 text-white font-bold py-2 px-4 rounded\">\n",
    "  Buton\n",
    "</button>"
   ]
  },
  {
   "cell_type": "markdown",
   "metadata": {},
   "source": [
    "În acest exemplu, bg-blue-500, hover:bg-blue-700, text-white, font-bold, py-2, px-4, rounded sunt toate clase de utilitate care aplică diferite stiluri la elementul button.\n",
    "\n",
    "Daca ar fi sa stilizam butonul cu css clasic, ar asa:"
   ]
  },
  {
   "cell_type": "code",
   "execution_count": null,
   "metadata": {
    "vscode": {
     "languageId": "css"
    }
   },
   "outputs": [],
   "source": [
    "button { background-color: blue; color: white; font-weight: bold; padding: 0.5rem 1rem; border-radius: 0.25rem; }"
   ]
  },
  {
   "cell_type": "code",
   "execution_count": null,
   "metadata": {
    "vscode": {
     "languageId": "html"
    }
   },
   "outputs": [],
   "source": [
    "<div class=\"bg-brand-blue text-white\">Un div cu fundal albastru și text alb</div>\n",
    "<div class=\"bg-brand-green text-white\">Un alt div cu fundal verde și text alb</div>"
   ]
  },
  {
   "cell_type": "markdown",
   "metadata": {},
   "source": [
    "Daca ai extensia de tailwind instalata, poti da hover peste un nume de clasa si poti vedea ce proprietati css sunt aplicate proiectului"
   ]
  },
  {
   "cell_type": "markdown",
   "metadata": {},
   "source": [
    "Recomandam sa scrieti codul de tailwind cu documentatia in fata pentru a vedea sintaxa claselor si atributele lor\n",
    "https://tailwindcss.com/docs/\n"
   ]
  }
 ],
 "metadata": {
  "language_info": {
   "name": "python"
  }
 },
 "nbformat": 4,
 "nbformat_minor": 2
}
