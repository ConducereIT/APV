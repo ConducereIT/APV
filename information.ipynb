{
 "cells": [
  {
   "cell_type": "markdown",
   "metadata": {
    "vscode": {
     "languageId": "restructuredtext"
    }
   },
   "source": [
    "Aici se vor scrie eventualele explicatii ale proiectului, in care o sa fie prezentata toata configuratia site-ului"
   ]
  },
  {
   "cell_type": "markdown",
   "metadata": {},
   "source": [
    "Pentru stilizarea componentelor vom folosi styledComponent in care utilizam twin-micro, o librarie care permite utilizarea codului de TailWind in creeea acesteia.\n",
    "\n",
    "Astfel incat, urmatorul cod de CSS utilizat in stilizarea componentelor la nivel global:"
   ]
  },
  {
   "cell_type": "code",
   "execution_count": null,
   "metadata": {
    "vscode": {
     "languageId": "javascript"
    }
   },
   "outputs": [],
   "source": [
    "const containerStyles = {\n",
    "  display: 'flex',\n",
    "  alignItems: 'center',\n",
    "  justifyContent: 'center',\n",
    "  flexDirection: 'column',\n",
    "  width: '100%',\n",
    "  backgroundColor: '#6B46C1', // Color indigo-600\n",
    "};\n",
    "\n",
    "<div className=\"header\" style={containerStyles}>\n",
    "  <h1> E.G </h1>\n",
    "</div>"
   ]
  },
  {
   "cell_type": "markdown",
   "metadata": {},
   "source": [
    "Se transforma astfel:"
   ]
  },
  {
   "cell_type": "code",
   "execution_count": null,
   "metadata": {
    "vscode": {
     "languageId": "javascript"
    }
   },
   "outputs": [],
   "source": [
    "const HeaderDiv = styled.div.attrs(props => ({\n",
    "    className: `header h-[90px] w-full fixed top-0 ${props.theme && `bg-${props.theme.background}`}`\n",
    "  }))``;\n",
    "\n",
    "<Header>\n",
    "    <h1>\n",
    "        E.G\n",
    "    </h1>\n",
    "</Header>"
   ]
  },
  {
   "cell_type": "markdown",
   "metadata": {},
   "source": [
    "Se pune si clasa custom la fiecare componenta, pentru a putea modifica elementele din interiorul clasei custom in style ul global:"
   ]
  },
  {
   "cell_type": "code",
   "execution_count": null,
   "metadata": {
    "vscode": {
     "languageId": "typescriptreact"
    }
   },
   "outputs": [],
   "source": [
    "const globalStyles = createGlobalStyle`\n",
    "    // ...\n",
    "\n",
    "  h1 {\n",
    "    // ..\n",
    "  }\n",
    "\n",
    "  .header{\n",
    "    h1{\n",
    "      color: yellow;\n",
    "    }\n",
    "  }\n",
    "\n",
    "`;"
   ]
  },
  {
   "cell_type": "markdown",
   "metadata": {},
   "source": [
    "Astfel putem sa facem diferenta dintre elementele cu acelasi tag global, fata de cele incapsulate in interiorul unui element creat costum"
   ]
  }
 ],
 "metadata": {
  "language_info": {
   "name": "python"
  }
 },
 "nbformat": 4,
 "nbformat_minor": 2
}
