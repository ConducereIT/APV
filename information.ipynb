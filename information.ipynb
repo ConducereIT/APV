{
 "cells": [
  {
   "cell_type": "markdown",
   "metadata": {
    "vscode": {
     "languageId": "restructuredtext"
    }
   },
   "source": [
    "Aici se vor scrie eventualele explicatii ale proiectului, in care o sa fie prezentata toata configuratia site-ului"
   ]
  },
  {
   "cell_type": "markdown",
   "metadata": {},
   "source": [
    "Voluntarii ce vor lucra pe proiect sunt rugati sa consulte urmatoarele fisiere:"
   ]
  },
  {
   "cell_type": "markdown",
   "metadata": {},
   "source": [
    "* Create-Component.ipynb\n",
    "* Style-Component.ipynb"
   ]
  }
 ],
 "metadata": {
  "language_info": {
   "name": "python"
  }
 },
 "nbformat": 4,
 "nbformat_minor": 2
}
