{
 "cells": [
  {
   "cell_type": "markdown",
   "metadata": {},
   "source": [
    "In acest fisier vor fi explicate toate informatiile necesare de care aveti nevoie pentru a putea face componente de la zero, pe care sa le folositi in interiorul proiectului.\n",
    "\n",
    "Pentru a putea crea o componenta de la zero, trebuie sa tineti cont de cateva reguli:\n",
    "\n",
    "    1. Componenta trebuie sa fie creata intr-un mod simplist si sa fie cat se poate de optima (optima = eliminarea repetitiei in cod)\n",
    "    \n",
    "    2. Componenta trebuie sa fie modulara si facuta intr-un mod generalist, fara a se exagera. Dorim sa facem componente generale, pentr a le putea folosi si in alte parti ale site-ului, fara a fi nevoie sa o recreem de la zero mereu.\n"
   ]
  },
  {
   "cell_type": "markdown",
   "metadata": {},
   "source": [
    "Componentele pot sa fie previzualitate ca niste clase sau functii, care pe langa un anumit behaviour, prezinta si o interfata grafica.\n",
    "\n",
    "In aplicatiile noastre, noi vom lucra cu componente de tip functie, pentru a elimina cantitatea inutila de cod pe care am fi trebuit sa o scriem in plus.\n",
    "\n",
    "Pentru a putea sa functioneze, componentele noastre trebuie sa fie vazute precum o metoda care returneaza o interfata grafica, prin care noi putem sa le accesam comportamentul\n",
    "\n",
    "    !!! De retinut ca nu orice componenta trebuie neaparat sa aiba si o anumita functionalitate sau un comportament\n",
    "\n",
    "Cum am spus si mai sus, acestea au nevoie sa returneze o interfata, asa ca partea care o sa includa keyword-ul return (*elemente*) o sa fie cea care se va afisa pe site\n",
    "\n",
    " Componentele vor avea urmatoarea sintaxa:"
   ]
  },
  {
   "cell_type": "code",
   "execution_count": null,
   "metadata": {
    "vscode": {
     "languageId": "typescript"
    }
   },
   "outputs": [],
   "source": [
    "const Nume_Componenta = () => {\n",
    "\n",
    "    return (\n",
    "\n",
    "    );\n",
    "}\n",
    "\n",
    "export default Nume_Componenta;"
   ]
  },
  {
   "cell_type": "markdown",
   "metadata": {},
   "source": [
    "Vom explica acuma fiecare parte a componentei si unde trebuiesc lucrurile sa fie scrise"
   ]
  },
  {
   "cell_type": "markdown",
   "metadata": {},
   "source": [
    "Intai, hai sa explicam putin cum am putea sa citim aceasta componenta, pentru a putea sa fie mai usor de inteles\n",
    "\n",
    "    1. Avem o variabila Nume_Componenta care este de tip const, anume e constanta si nu se modifica ulterior in cod\n",
    "    2. Componenta noastra primeste (' = ') o functie fara nume careia sa i fie value ( () => { } )\n",
    "    3. In interiorul functiei, vom avea keyword-ul 'return' prin care functia noastra o sa returneze componentei o anumita interfata grafica formata din mai multe elemente ale unui limbaj de markup ( aici este xml <extensia .tsx = typescript xml>, dar poate sa fie asociata cu html pentru o intelegere mai usoara)\n",
    "    4. Ceea ce este returnat de functie o sa fie primit ( ' = ' ) de constanta Nume_Componenta\n",
    "\n",
    "Acum vom imparti componenta in mai multe sectiuni pe care le vom discuta ulterior"
   ]
  },
  {
   "cell_type": "code",
   "execution_count": null,
   "metadata": {
    "vscode": {
     "languageId": "typescript"
    }
   },
   "outputs": [],
   "source": [
    "/*\n",
    "\n",
    "    SECTIUNE 1\n",
    "\n",
    "*/\n",
    "\n",
    "const Nume_Componenta = () => {\n",
    "\n",
    "    /*\n",
    "        SECTIUNE 2  \n",
    "    */\n",
    "\n",
    "    return (\n",
    "\n",
    "        /*\n",
    "            SECTIUNE 3\n",
    "        */\n",
    "\n",
    "    );\n",
    "}\n",
    "\n",
    "// Sectiunea 4 este cea cu ' EXPORT DEFAULT '\n",
    "export default Nume_Componenta;"
   ]
  },
  {
   "cell_type": "markdown",
   "metadata": {},
   "source": [
    "Sectiunea 1 o sa cuprinda import-uri de pachete instalate sau de componente create custom sub forma:"
   ]
  },
  {
   "cell_type": "code",
   "execution_count": null,
   "metadata": {
    "vscode": {
     "languageId": "typescript"
    }
   },
   "outputs": [],
   "source": [
    "import React, {useState, useEffect} from 'react'\n",
    "\n",
    "import { Header } from \"../components/Header.component\";\n",
    "\n",
    "... RESTUL CODULUI"
   ]
  },
  {
   "cell_type": "markdown",
   "metadata": {},
   "source": [
    "In sectiunea numarul 2, vom putea scrie functionalitatea pe care dorim ca componenta noastra sa o aiba. De ex daca dorim ca componenta noastra sa aiba o functie care sa incrementeze un counter atunci cand apasam pe un buton, vom scrie urmatorul cod:"
   ]
  },
  {
   "cell_type": "code",
   "execution_count": null,
   "metadata": {
    "vscode": {
     "languageId": "typescript"
    }
   },
   "outputs": [],
   "source": [
    "import React, { useState } from 'react';\n",
    "\n",
    "const CounterButton: React.FC = () => {\n",
    "  const [count, setCount] = useState<number>(0);\n",
    "\n",
    "  const incrementCounter = () => {\n",
    "    setCount(prevCount => prevCount + 1);\n",
    "  };\n",
    "\n",
    "  ... RESTUL CODULUI\n",
    "};\n",
    "\n",
    "... RESTUL CODULUI"
   ]
  },
  {
   "cell_type": "markdown",
   "metadata": {},
   "source": [
    "Sectiunea 3 o sa cuprinda tag-uri de XMLDocument (XML  poate sa fie asociat cu HTML pentru o intelegere mai usoara) si o sa afiseze interfata grafica pe care o returnam:"
   ]
  },
  {
   "cell_type": "code",
   "execution_count": null,
   "metadata": {
    "vscode": {
     "languageId": "typescriptreact"
    }
   },
   "outputs": [],
   "source": [
    "import React, { useState } from 'react';\n",
    "\n",
    "const CounterButton: React.FC = () => {\n",
    "\n",
    "  ... RESTUL CODULUI\n",
    "\n",
    "  return (\n",
    "    <div>\n",
    "      <p>Counter: {count}</p>\n",
    "      <button onClick={incrementCounter}>Increment</button>\n",
    "    </div>\n",
    "  );\n",
    "};\n",
    "\n",
    "... RESTUL CODULUI"
   ]
  },
  {
   "cell_type": "markdown",
   "metadata": {},
   "source": [
    "Sectiunea 4 este cea cu ' EXPORT DEFAULT ' si aceasta exporta componenta:"
   ]
  },
  {
   "cell_type": "code",
   "execution_count": null,
   "metadata": {
    "vscode": {
     "languageId": "typescriptreact"
    }
   },
   "outputs": [],
   "source": [
    "... RESTUL CODULUI\n",
    "\n",
    "export default CounterButton;"
   ]
  },
  {
   "cell_type": "markdown",
   "metadata": {},
   "source": [
    "Pentru a folosi componenta creata intr-o pagina pentru a o vizualiza, trebuie sa deschizi o Componenta Pagina si sa o importi in partea grafica"
   ]
  },
  {
   "cell_type": "code",
   "execution_count": null,
   "metadata": {
    "vscode": {
     "languageId": "typescriptreact"
    }
   },
   "outputs": [],
   "source": [
    "import CounterButton from '../component/CounterButton'\n",
    "\n",
    " ... RESTUL CODULUI\n",
    "\n",
    "const Home = () => {\n",
    "\n",
    "  ... RESTUL CODULUI\n",
    "\n",
    "  return (\n",
    "    <>\n",
    "      ... RESTUL CODULUI\n",
    "\n",
    "      <CounterButton />\n",
    "    </>\n",
    "  );\n",
    "};\n",
    "\n",
    "export default Home;\n"
   ]
  },
  {
   "cell_type": "markdown",
   "metadata": {},
   "source": [
    "Componentele Pagini sunt scrise sub formatul: \"NUME.views.tsx\""
   ]
  },
  {
   "cell_type": "markdown",
   "metadata": {},
   "source": [
    "Acum, hai sa vorbim putin despre primele 2 subiteme pe care le-am mentionat la inceputul Notebook-ului"
   ]
  },
  {
   "cell_type": "markdown",
   "metadata": {},
   "source": [
    "    1. Componenta trebuie sa fie creata intr-un mod simplist si sa fie cat se poate de optima (optima = eliminarea repetitiei in cod)"
   ]
  },
  {
   "cell_type": "code",
   "execution_count": null,
   "metadata": {
    "vscode": {
     "languageId": "typescriptreact"
    }
   },
   "outputs": [],
   "source": [
    "export const Header = () => {\n",
    "    return (\n",
    "      <div className=\"header h-[5.625rem] w-full fixed top-0 \">\n",
    "        <div className=\"elementHeader h-[80%] my-auto  w-[80rem] mx-auto relative\">\n",
    "              <ul className=\"flex  p-0 center my-auto h-full\">\n",
    "                <li>Element 1</li>\n",
    "                <li>Element 2</li>\n",
    "                <li>Element 3</li>\n",
    "                <li>Element 4</li>\n",
    "              </ul>\n",
    "          </div>\n",
    "      </div>\n",
    "    );"
   ]
  },
  {
   "cell_type": "markdown",
   "metadata": {},
   "source": [
    "In codul scris mai sus, tag-ul 'li' se repeta de 4 ori. Repetitia codului pe unele compononte poate sa fie gresita, asa ca vom incerca sa scriem codul de mai sus sub urmatorul format:"
   ]
  },
  {
   "cell_type": "code",
   "execution_count": null,
   "metadata": {
    "vscode": {
     "languageId": "typescriptreact"
    }
   },
   "outputs": [],
   "source": [
    "interface HeaderItems {\n",
    "  text: string;\n",
    "}\n",
    "\n",
    "const headerTextContent: HeaderItems[] = [\n",
    "  {\n",
    "    text: \"Element 1\",\n",
    "  },\n",
    "  {\n",
    "    text: \"Element 2\"\n",
    "  },\n",
    "  {\n",
    "    text: \"Element 3\"\n",
    "  },\n",
    "  {\n",
    "    text: \"Element 4\"\n",
    "  }\n",
    "]\n",
    "\n",
    "export const Header = () => {\n",
    "  return (\n",
    "    <div className=\"header h-[5.625rem] w-full fixed top-0 \">\n",
    "      <div className=\"elementHeader h-[80%] my-auto  w-[80rem] mx-auto relative\">\n",
    "            <ul className=\"flex  p-0 center my-auto h-full\">\n",
    "            {headerTextContent.map((item, index) => (\n",
    "                <Dropdown {...item} key={index} />\n",
    "            ))}\n",
    "            </ul>\n",
    "        </div>\n",
    "    </div>\n",
    "  );"
   ]
  },
  {
   "cell_type": "markdown",
   "metadata": {},
   "source": [
    "  2. Componenta trebuie sa fie modulara si facuta intr-un mod generalist, fara a se exagera. Dorim sa facem componente generale, pentr a le putea folosi si in alte parti ale site-ului, fara a fi nevoie sa o recreem de la zero mereu."
   ]
  },
  {
   "cell_type": "markdown",
   "metadata": {},
   "source": []
  }
 ],
 "metadata": {
  "language_info": {
   "name": "python"
  }
 },
 "nbformat": 4,
 "nbformat_minor": 2
}
