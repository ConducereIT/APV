{
 "cells": [
  {
   "cell_type": "markdown",
   "metadata": {},
   "source": [
    "!!!!! Se va lucra numai in folderul client\n",
    "\n",
    "Terminalul va trebui sa fie in permanenta deschis doar pe APV/client"
   ]
  },
  {
   "cell_type": "markdown",
   "metadata": {},
   "source": [
    "\n",
    "\n",
    "\n",
    "Acest proiect a fost creat cu ajutorul framework-ului genezio, asa ca avem cativa pasi extra pentru a rula proiectul\n",
    "\n",
    "\n",
    "In terminal se va rula comanda:"
   ]
  },
  {
   "cell_type": "code",
   "execution_count": null,
   "metadata": {
    "vscode": {
     "languageId": "snippets"
    }
   },
   "outputs": [],
   "source": [
    "npm i -g genezio"
   ]
  },
  {
   "cell_type": "markdown",
   "metadata": {},
   "source": [
    "Apoi"
   ]
  },
  {
   "cell_type": "code",
   "execution_count": null,
   "metadata": {
    "vscode": {
     "languageId": "snippets"
    }
   },
   "outputs": [],
   "source": [
    "genezio account"
   ]
  },
  {
   "cell_type": "markdown",
   "metadata": {},
   "source": [
    "Veti fi redirectionati la o pagina unde va trb sa va logati cu github-ul.\n",
    "\n",
    "Dupa logare, va trebui sa ne spuneti email-ul cu care v-ati conectat pentru a va putea da acces la proiect\n",
    "\n",
    "Veti primi pe email o invitatie pe care va trebui sa o acceptati"
   ]
  },
  {
   "cell_type": "markdown",
   "metadata": {},
   "source": []
  }
 ],
 "metadata": {
  "language_info": {
   "name": "python"
  }
 },
 "nbformat": 4,
 "nbformat_minor": 2
}
