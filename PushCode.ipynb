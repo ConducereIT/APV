{
 "cells": [
  {
   "cell_type": "code",
   "execution_count": null,
   "metadata": {
    "vscode": {
     "languageId": "snippets"
    }
   },
   "outputs": [],
   "source": [
    "COMENZI UTILE GitHub: git checkout-b \"nume-branch-nou\" //creaza un branch sub numele de \"nume-branch-nou\" \n",
    "git add . //adauga toate fisierele in precommit \n",
    "git commit-m \"Adding ...\" // creaza un commit (prin asta pushezi codul)\n",
    "git push // pusharea codului propriu zisa \n",
    "// aici vei continua pe pagina de github si vei face un pull request. La review vei selecta MDGcode sau AMihnea\n",
    "git checkout dev // te muti pe branchul \"dev\" \n",
    "git pull // se actualizeaza codul \n",
    "//Comenzi pentru a rula o aplicatie de Vite.js:\n",
    "npm run dev"
   ]
  }
 ],
 "metadata": {
  "language_info": {
   "name": "python"
  }
 },
 "nbformat": 4,
 "nbformat_minor": 2
}
